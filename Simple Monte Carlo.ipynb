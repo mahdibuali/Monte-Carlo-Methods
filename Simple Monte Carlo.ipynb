{
  "nbformat": 4,
  "nbformat_minor": 0,
  "metadata": {
    "colab": {
      "provenance": []
    },
    "kernelspec": {
      "name": "python3",
      "display_name": "Python 3"
    },
    "language_info": {
      "name": "python"
    }
  },
  "cells": [
    {
      "cell_type": "markdown",
      "source": [
        "Part 1"
      ],
      "metadata": {
        "id": "0BWL1quuf4ja"
      }
    },
    {
      "cell_type": "markdown",
      "source": [
        "P1: Pi estimation "
      ],
      "metadata": {
        "id": "6656afljf8ql"
      }
    },
    {
      "cell_type": "code",
      "execution_count": null,
      "metadata": {
        "id": "8TYaUxfAY7FL"
      },
      "outputs": [],
      "source": [
        "import random\n",
        "# This function takes num_samples and \n",
        "# sample x, y independently from uniform distribution \n",
        "# then calculate ratio of coordinates inside unit circle to unit square to estimate Pi\n",
        "def pi_estimator(num_samples):\n",
        "  c = 0\n",
        "  for i in range(num_samples):\n",
        "    x = 2 * random.random()\n",
        "    y = 2 * random.random()\n",
        "    r = (x-1)**2 + (y-1)**2\n",
        "    if r <= 1:\n",
        "      c += 1\n",
        "  return 4 * c/num_samples"
      ]
    },
    {
      "cell_type": "code",
      "source": [
        "print(pi_estimator(100))\n",
        "print(pi_estimator(1000))\n",
        "print(pi_estimator(10000))"
      ],
      "metadata": {
        "id": "CixyBH6IrtpS"
      },
      "execution_count": null,
      "outputs": []
    },
    {
      "cell_type": "markdown",
      "source": [
        "P2: Volume of a ball of a radius 2 estimation"
      ],
      "metadata": {
        "id": "uUYYW4vKgB6e"
      }
    },
    {
      "cell_type": "code",
      "source": [
        "# This function takes num_samples and \n",
        "# sample x, y, z independently from uniform distribution \n",
        "# then calculate ratio of coordinates inside the ball to the cube to estimate the volume\n",
        "def vol_est(num_samples):\n",
        "  c = 0\n",
        "  for i in range(num_samples):\n",
        "    x = 4 * random.random()\n",
        "    y = 4 * random.random()\n",
        "    z = 4 * random.random()\n",
        "    r = (x-2)**2 + (y-2)**2 + (z-2)**2\n",
        "    if r <= 4:\n",
        "      c += 1\n",
        "  return 64 * c/num_samples\n"
      ],
      "metadata": {
        "colab": {
          "base_uri": "https://localhost:8080/"
        },
        "id": "sUdkPPWdgDI_",
        "outputId": "88d3512b-15ed-424f-f508-944bdce5666b"
      },
      "execution_count": null,
      "outputs": [
        {
          "output_type": "stream",
          "name": "stdout",
          "text": [
            "33.5201728\n"
          ]
        }
      ]
    },
    {
      "cell_type": "code",
      "source": [
        "print(vol_est(100))\n",
        "print(vol_est(1000))\n",
        "print(vol_est(10000))"
      ],
      "metadata": {
        "id": "oRTFCBnnr4bI"
      },
      "execution_count": null,
      "outputs": []
    },
    {
      "cell_type": "markdown",
      "source": [
        "Part 2: The game of craps\n",
        "\n",
        "In one game of Craps, a player initially rolls two six-sided dice.\\\\\n",
        "\n",
        "• If the sum of the faces of this initial roll is 7 or 11, the player wins. For example, I rolled\n",
        "the two dice and I got on the first die 5 and on the second 2, then the sum is 7, so I win.\n",
        "\n",
        "• If the sum of the faces of this initial roll is 2, 3, or 12, the player loses.\n",
        "\n",
        "• With any other value for the sum of the faces of the initial roll, say X, the player\n",
        "repeatedly rolls the dice until either a 7 or the value X of the initial roll appears. If the\n",
        "value X of the initial roll appears before the 7, the player wins. However, if a 7 appears\n",
        "before X, the player loses."
      ],
      "metadata": {
        "id": "JR3VK4sKsDG1"
      }
    },
    {
      "cell_type": "code",
      "source": [
        "# We simulate the game n times to determine\n",
        "# the probability of winning or losing on the first roll, second roll, ..., up to the 10nth roll.\n",
        "# Then we plot these probabilities\n",
        "# This function simulate one game and return the game outcome and number of rolls\n",
        "def playOneGame():\n",
        "  a = random.randint(1, 6)\n",
        "  b = random.randint(1, 6)\n",
        "  if a + b == 7 or a + b == 11:\n",
        "    return 1, 1\n",
        "  if a + b == 2 or a + b == 3 or a + b == 12:\n",
        "    return 0, 1\n",
        "  c = 2\n",
        "  while True:\n",
        "    x = random.randint(1, 6)\n",
        "    y = random.randint(1, 6)\n",
        "    if x + y == a + b:\n",
        "      return 1, c\n",
        "    if x + y ==7:\n",
        "      return 0, c\n",
        "    c += 1"
      ],
      "metadata": {
        "id": "SsCb2Lqe2JsQ"
      },
      "execution_count": null,
      "outputs": []
    },
    {
      "cell_type": "code",
      "source": [
        "# This function simulate n games and return number of wins and loses\n",
        "def play(n):\n",
        "  w = {}\n",
        "  l = {}\n",
        "  for i in range(n):\n",
        "    r, num_rolls = playOneGame()\n",
        "    if r == 1:\n",
        "      if num_rolls not in w:\n",
        "        w[num_rolls] = 1\n",
        "      else:\n",
        "         w[num_rolls] += 1\n",
        "    else:\n",
        "      if num_rolls not in l:\n",
        "        l[num_rolls] = 1\n",
        "      else:\n",
        "         l[num_rolls] += 1\n",
        "  return w, l"
      ],
      "metadata": {
        "id": "1xcV7IKM4HoR"
      },
      "execution_count": null,
      "outputs": []
    },
    {
      "cell_type": "code",
      "source": [
        "import matplotlib.pyplot as plt\n",
        "w, l = play(10000)\n",
        "plt.plot(range(1, 11), [w[i] for i in range(1, 11)], label=\"Number of games won per each roll\")\n",
        "plt.plot(range(1, 11), [l[i] for i in range(1, 11)], label=\"Number of games lost per each roll\")\n",
        "\n",
        "plt.title(\"Number of games played =  10000\")\n",
        "plt.xlabel(\"Number of rolls\")\n",
        "plt.ylabel(\"Percentage of winning or losing per each roll\")\n",
        "plt.legend()\n",
        "plt.show()"
      ],
      "metadata": {
        "colab": {
          "base_uri": "https://localhost:8080/",
          "height": 295
        },
        "id": "cFThvRf46TiE",
        "outputId": "2b9234ca-7677-4ede-892c-9c8d342f5f2b"
      },
      "execution_count": null,
      "outputs": [
        {
          "output_type": "display_data",
          "data": {
            "text/plain": [
              "<Figure size 432x288 with 1 Axes>"
            ],
            "image/png": "[encoded data removed]"
          },
          "metadata": {
            "needs_background": "light"
          }
        }
      ]
    },
    {
      "cell_type": "markdown",
      "source": [
        "Assignment 3\n"
      ],
      "metadata": {
        "id": "w6XVYXCjqpz5"
      }
    },
    {
      "cell_type": "markdown",
      "source": [
        "Q4. Importance sampling of Beta(2,5) to calculate the distribution mean  "
      ],
      "metadata": {
        "id": "apt92UnJ8n6K"
      }
    },
    {
      "cell_type": "code",
      "source": [
        "from scipy.stats import beta, norm\n",
        "import random\n",
        "import numpy as np "
      ],
      "metadata": {
        "id": "bLE1La3gqunJ"
      },
      "execution_count": null,
      "outputs": []
    },
    {
      "cell_type": "code",
      "source": [
        "a = 2\n",
        "b = 5\n",
        "N = 1000\n",
        "samples = np.random.uniform(size=N)\n",
        "proposal_q = 1\n",
        "w = beta.pdf(samples, a, b) / proposal_q\n",
        "approx_Ef = np.sum(w * samples)/N\n",
        "true_Ef = a/(a+b)\n",
        "ESS = np.power(np.sum(w), 2)/ np.sum(np.power(w, 2))\n",
        "print('The approximation of the expectation of')\n",
        "print('f(x) w.r.t the target is ', \"{:.4f}\".format(approx_Ef))\n",
        "print('The true value of the expectation of')\n",
        "print('f(x) w.r.t the target is ', \"{:.4f}\".format(true_Ef))\n",
        "print('ESS = ', \"{:.4f}\".format(ESS))"
      ],
      "metadata": {
        "colab": {
          "base_uri": "https://localhost:8080/"
        },
        "id": "0c23KLoprJdk",
        "outputId": "bf55736d-15ac-4ea8-bb5d-d86262866d8a"
      },
      "execution_count": null,
      "outputs": [
        {
          "output_type": "stream",
          "name": "stdout",
          "text": [
            "The approximation of the expectation of\n",
            "f(x) w.r.t the target is  0.2773\n",
            "The true value of the expectation of\n",
            "f(x) w.r.t the target is  0.2857\n",
            "ESS =  545.5605\n"
          ]
        }
      ]
    },
    {
      "cell_type": "markdown",
      "source": [
        "Q5.1. Importance sampling of p(x) = 4 e^(-3 x^2) to calculate the expectation of of f(x) = e^-x wrt p(x)"
      ],
      "metadata": {
        "id": "2hqo_0AE1Vxv"
      }
    },
    {
      "cell_type": "code",
      "source": [
        "def IS1(N):\n",
        "  samples = np.random.normal(loc=1, scale=2, size=N)\n",
        "  proposal_q = norm.pdf(samples, 1, 2)\n",
        "  w = 4 * np.exp(-3 * np.power(samples, 2)) / proposal_q\n",
        "  approx_Ef = np.sum(w * np.exp(-samples))/N\n",
        "  ESS = np.power(np.sum(w), 2)/ np.sum(np.power(w, 2))\n",
        "  print('The approximation of the expectation of ', N, ' samples')\n",
        "  print('f(x) w.r.t the target is ', \"{:.4f}\".format(approx_Ef))\n",
        "  print('ESS of ' , N, ' samples = ', \"{:.4f}\".format(ESS))"
      ],
      "metadata": {
        "id": "wrYg0Kgb1SIv"
      },
      "execution_count": null,
      "outputs": []
    },
    {
      "cell_type": "code",
      "source": [
        "IS1(100)\n",
        "IS1(10000)\n",
        "IS1(1000000)\n",
        "print('The true value of the expectation of')\n",
        "print('f(x) w.r.t the target is ', \"{:.4f}\".format(4.44903))"
      ],
      "metadata": {
        "colab": {
          "base_uri": "https://localhost:8080/"
        },
        "id": "vYVvuz8QufjG",
        "outputId": "876b57c8-7c8d-4630-b48e-e189a179da6d"
      },
      "execution_count": null,
      "outputs": [
        {
          "output_type": "stream",
          "name": "stdout",
          "text": [
            "The approximation of the expectation of  100  samples\n",
            "f(x) w.r.t the target is  4.7642\n",
            "ESS of  100  samples =  28.2140\n",
            "The approximation of the expectation of  10000  samples\n",
            "f(x) w.r.t the target is  4.5429\n",
            "ESS of  10000  samples =  2553.5133\n",
            "The approximation of the expectation of  1000000  samples\n",
            "f(x) w.r.t the target is  4.4358\n",
            "ESS of  1000000  samples =  250793.0214\n",
            "The true value of the expectation of\n",
            "f(x) w.r.t the target is  4.4490\n"
          ]
        }
      ]
    },
    {
      "cell_type": "markdown",
      "source": [
        "Q5.2. Importance sampling of p(x) = 4 e^(-3 x^2) to calculate the expectation of of f(x) = e^(3 x) wrt p(x)"
      ],
      "metadata": {
        "id": "glLllb4XxPPs"
      }
    },
    {
      "cell_type": "code",
      "source": [
        "def IS2(N):\n",
        "  samples = np.random.normal(loc=1, scale=2, size=N)\n",
        "  proposal_q = norm.pdf(samples, 1, 2)\n",
        "  w = 4 * np.exp(-3 * np.power(samples, 2)) / proposal_q\n",
        "  approx_Ef = np.sum(w * np.exp(3 * samples))/N\n",
        "  ESS = np.power(np.sum(w), 2)/ np.sum(np.power(w, 2))\n",
        "  print('The approximation of the expectation of ', N, ' samples')\n",
        "  print('f(x) w.r.t the target is ', \"{:.4f}\".format(approx_Ef))\n",
        "  print('ESS of ' , N, ' samples = ', \"{:.4f}\".format(ESS))"
      ],
      "metadata": {
        "id": "wsJLyBJBxRwy"
      },
      "execution_count": null,
      "outputs": []
    },
    {
      "cell_type": "code",
      "source": [
        "IS2(100)\n",
        "IS2(10000)\n",
        "IS2(1000000)\n",
        "print('The true value of the expectation of')\n",
        "print('f(x) w.r.t the target is ', \"{:.4f}\".format(8.66553))"
      ],
      "metadata": {
        "colab": {
          "base_uri": "https://localhost:8080/"
        },
        "id": "pfd1G09YxbPU",
        "outputId": "e9cd27be-b975-4e9e-9f88-362da5a2920c"
      },
      "execution_count": null,
      "outputs": [
        {
          "output_type": "stream",
          "name": "stdout",
          "text": [
            "The approximation of the expectation of  100  samples\n",
            "f(x) w.r.t the target is  12.4894\n",
            "ESS of  100  samples =  32.5110\n",
            "The approximation of the expectation of  10000  samples\n",
            "f(x) w.r.t the target is  9.1308\n",
            "ESS of  10000  samples =  2616.0483\n",
            "The approximation of the expectation of  1000000  samples\n",
            "f(x) w.r.t the target is  8.6793\n",
            "ESS of  1000000  samples =  251928.4284\n",
            "The true value of the expectation of\n",
            "f(x) w.r.t the target is  8.6655\n"
          ]
        }
      ]
    },
    {
      "cell_type": "markdown",
      "source": [
        "Rejection sampling of Beta(4, 3)"
      ],
      "metadata": {
        "id": "VeUCN1pgyCHT"
      }
    },
    {
      "cell_type": "code",
      "source": [
        "samples = []\n",
        "while len(samples) < 100000:\n",
        "   y = np.random.uniform()\n",
        "   u = np.random.uniform()\n",
        "   if u < beta.pdf(y, 1.5, 3)/2:\n",
        "     samples.append(y)\n"
      ],
      "metadata": {
        "id": "6t-Xy0p-yFaX"
      },
      "execution_count": null,
      "outputs": []
    },
    {
      "cell_type": "code",
      "source": [
        "import matplotlib.pyplot as plt\n",
        "plt.hist(samples, bins=100)\n",
        "plt.show()"
      ],
      "metadata": {
        "colab": {
          "base_uri": "https://localhost:8080/",
          "height": 265
        },
        "id": "hJOl23ig7vj3",
        "outputId": "53ece608-3be7-4590-ebd8-48bb4d859e76"
      },
      "execution_count": null,
      "outputs": [
        {
          "output_type": "display_data",
          "data": {
            "text/plain": [
              "<Figure size 432x288 with 1 Axes>"
            ],
            "image/png": "[encoded data removed]"
          },
          "metadata": {
            "needs_background": "light"
          }
        }
      ]
    },
    {
      "cell_type": "markdown",
      "source": [
        "Assignment 5\n"
      ],
      "metadata": {
        "id": "d0lz2x4tqXpi"
      }
    },
    {
      "cell_type": "markdown",
      "source": [
        "P3.2."
      ],
      "metadata": {
        "id": "kDN4aXeZqifj"
      }
    },
    {
      "cell_type": "code",
      "source": [
        "import numpy as np\n",
        "import matplotlib.pyplot as plt\n",
        "X = []\n",
        "Y = []\n",
        "s = np.random.normal()\n",
        "X.append(s * np.sqrt(1/(1-0.91**2)))\n",
        "for i in range(500):\n",
        "  s = np.random.normal()\n",
        "  X.append(0.91 * X[-1] + s)\n",
        "  s = np.random.normal()\n",
        "  Y.append(0.5 * np.exp(X[-1]/2) * s)\n",
        "X.pop(0)\n",
        "\n",
        "plt.plot(range(1, 501), X, label=\"X volatility\")\n",
        "plt.plot(range(1, 501), Y, label=\"Y observations\")\n",
        "plt.xlabel(\"index\")\n",
        "plt.ylabel(\"value\")\n",
        "plt.legend()\n",
        "plt.show()"
      ],
      "metadata": {
        "colab": {
          "base_uri": "https://localhost:8080/",
          "height": 279
        },
        "id": "TkZE5kv9qWg3",
        "outputId": "0c32a5d7-532b-4953-f2de-997a89ff477c"
      },
      "execution_count": null,
      "outputs": [
        {
          "output_type": "display_data",
          "data": {
            "text/plain": [
              "<Figure size 432x288 with 1 Axes>"
            ],
            "image/png": "[encoded data removed]"
          },
          "metadata": {
            "needs_background": "light"
          }
        }
      ]
    },
    {
      "cell_type": "markdown",
      "source": [
        "Assignment 6"
      ],
      "metadata": {
        "id": "iMoXiVuNCEH4"
      }
    },
    {
      "cell_type": "markdown",
      "source": [
        "P2: Kalman filter mean plot"
      ],
      "metadata": {
        "id": "UAWQhh-eCF2k"
      }
    },
    {
      "cell_type": "code",
      "source": [
        "import numpy as np\n",
        "import matplotlib.pyplot as plt\n",
        "X = []\n",
        "Y = []\n",
        "E = []\n",
        "V = []\n",
        "s = np.random.normal()\n",
        "X.append(s * np.sqrt(1/(1-0.91**2)))\n",
        "for i in range(500):\n",
        "  s = np.random.normal()\n",
        "  X.append(0.91 * X[-1] + s)\n",
        "  s = np.random.normal()\n",
        "  Y.append(0.5 * np.exp(X[-1]/2) * s)\n",
        "  if i == 0:\n",
        "    E.append(0.7 * Y[0]/(0.7 + 0.9))\n",
        "    V.append(0.7 * 0.9/(0.7 + 0.9))\n",
        "  else:\n",
        "    beta = (1/0.9) + 1/(0.7 + V[-1])\n",
        "    E.append((1/beta)*((Y[-1]/0.9) + E[-1]/(0.7 + V[-1])))\n",
        "    V.append(1/beta)\n",
        "X.pop(0)\n",
        "\n",
        "plt.plot(range(1, 501), X, label=\"X volatility\")\n",
        "plt.plot(range(1, 501), Y, label=\"Y observations\")\n",
        "plt.plot(range(1, 501), E, label=\"mean\")\n",
        "plt.xlabel(\"index\")\n",
        "plt.ylabel(\"value\")\n",
        "plt.legend()\n",
        "plt.show()"
      ],
      "metadata": {
        "colab": {
          "base_uri": "https://localhost:8080/",
          "height": 279
        },
        "id": "m6WcHOzxCHga",
        "outputId": "9929b7ac-869f-46b0-eeef-91f1e3843667"
      },
      "execution_count": null,
      "outputs": [
        {
          "output_type": "display_data",
          "data": {
            "text/plain": [
              "<Figure size 432x288 with 1 Axes>"
            ],
            "image/png": "[encoded data removed]"
          },
          "metadata": {
            "needs_background": "light"
          }
        }
      ]
    }
  ]
}