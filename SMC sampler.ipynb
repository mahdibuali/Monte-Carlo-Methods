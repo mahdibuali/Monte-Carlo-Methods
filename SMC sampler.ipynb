{
  "nbformat": 4,
  "nbformat_minor": 0,
  "metadata": {
    "colab": {
      "provenance": []
    },
    "kernelspec": {
      "name": "python3",
      "display_name": "Python 3"
    },
    "language_info": {
      "name": "python"
    }
  },
  "cells": [
    {
      "cell_type": "code",
      "execution_count": 1,
      "metadata": {
        "colab": {
          "base_uri": "https://localhost:8080/"
        },
        "id": "xkXOgIayo_J-",
        "outputId": "22c09a09-5c2f-4058-a2ca-3bd15084634d"
      },
      "outputs": [
        {
          "output_type": "stream",
          "name": "stdout",
          "text": [
            "True Mean:  [0.84030261 0.47553728 0.83215873 0.13266596 0.69726655]\n",
            "Sample Mean:  [0.84425793 0.47574291 0.85233046 0.14509961 0.72811593]\n",
            "True Covariance:  [[1.41949603 1.27172123 0.9833405  1.64093079 0.99288176]\n",
            " [1.27172123 1.38584626 0.91145774 1.46165923 0.784073  ]\n",
            " [0.9833405  0.91145774 1.28499172 1.33490533 1.27527137]\n",
            " [1.64093079 1.46165923 1.33490533 2.03866962 1.42801905]\n",
            " [0.99288176 0.784073   1.27527137 1.42801905 1.70453252]]\n",
            "Sample Covariance:  [[1.41470909 1.26642862 0.97755017 1.63551096 0.98866449]\n",
            " [1.26642862 1.38108729 0.906116   1.45552803 0.77745903]\n",
            " [0.97755017 0.906116   1.28543871 1.33113916 1.28021701]\n",
            " [1.63551096 1.45552803 1.33113916 2.03395967 1.42800369]\n",
            " [0.98866449 0.77745903 1.28021701 1.42800369 1.71844303]]\n",
            "est ratio  0.00026715775171946333\n"
          ]
        }
      ],
      "source": [
        "import numpy as np\n",
        "var = 0.1\n",
        "d = 5\n",
        "N = 100000\n",
        "K = 30\n",
        "a = np.random.uniform(size = d)\n",
        "b = np.random.uniform(size = (d, d))\n",
        "b = b @ np.transpose(b)\n",
        "inv_cov = np.linalg.inv(b)\n",
        "z0 = np.power(np.linalg.det(2 * np.pi * b), -0.5 * (1/K))\n",
        "zf = np.power(np.linalg.det(2 * np.pi * b), -0.5)\n",
        "z = 1\n",
        "def get_prob(proposal, X, cov):\n",
        "  A = - 0.5 * (np.sum((proposal - a) @ cov * (proposal - a), axis = 1))\n",
        "  D = - 0.5 * (np.sum((X - a) @ cov * (X - a), axis = 1))\n",
        "  return np.exp(A - D)\n",
        "\n",
        "def get_weights(X, next_cov, curr_cov):\n",
        "  A = - 0.5 * (np.sum((X - a) @ next_cov * (X - a), axis = 1))\n",
        "  D = - 0.5 * (np.sum((X - a) @ curr_cov * (X - a), axis = 1))\n",
        "  return np.exp(A - D)\n",
        "\n",
        "# Samples initialization\n",
        "X = np.random.multivariate_normal(a, (K/1) * b, size = N)\n",
        "W = np.full(N, 1/N)\n",
        "\n",
        "for i in range(2, K + 1):\n",
        "  # Resample\n",
        "  I = np.random.choice(np.arange(N), size=N, p=W)\n",
        "  X = X[I, :]\n",
        "  W = np.full(N, 1/N)\n",
        "\n",
        "  # MCMC step\n",
        "  for j in range(10):\n",
        "    R = np.random.multivariate_normal(np.zeros(d), np.identity(d), size = N)\n",
        "    proposal = X + var * R\n",
        "    U = np.random.uniform(size = N)\n",
        "    alpha = get_prob(proposal, X, (i/K) * inv_cov)\n",
        "    I = U < alpha\n",
        "    X[I] = proposal[I]\n",
        "\n",
        "  # Computing weights\n",
        "  W = get_weights(X, ((i + 1)/K) * inv_cov, (i/K) * inv_cov)\n",
        "  z *= np.sum(W)/N\n",
        "  z0 = np.power(np.linalg.det(2 * np.pi * (K/(i-1)) * b), -0.5)\n",
        "  zf = np.power(np.linalg.det(2 * np.pi * (K/i) * b), -0.5)\n",
        "  W = W/np.sum(W)\n",
        "  \n",
        "sample_mean = W.T @ X\n",
        "sample_cov = np.cov(np.transpose(X))\n",
        "print(\"True Mean: \", a[:5])\n",
        "print(\"Sample Mean: \", sample_mean[:5])\n",
        "print(\"True Covariance: \", b[:5, :5])\n",
        "print(\"Sample Covariance: \", sample_cov[:5, :5])\n",
        "print(\"est ratio \", z)"
      ]
    }
  ]
}